{
 "cells": [
  {
   "cell_type": "code",
   "execution_count": 1,
   "id": "396e353a-2ccf-42b5-ab88-1db26ff02541",
   "metadata": {},
   "outputs": [],
   "source": [
    "import cv2\n",
    "import json\n",
    "import os\n",
    "import numpy as np\n",
    "import re\n",
    "import shutil\n",
    "from tqdm import tqdm"
   ]
  },
  {
   "cell_type": "code",
   "execution_count": null,
   "id": "fadfae9b-2f9b-41b0-9a3d-6a9ae5fe37b8",
   "metadata": {},
   "outputs": [],
   "source": [
    "# Put the json files and the images on a single folder\n",
    "# put the directory path on dataset_dir\n",
    "dataset_dir = r\"D:\\paper implementation\\dataset\\train\"\n",
    "img_path = []\n",
    "label_path = []\n",
    "for i in os.listdir(dataset_dir):\n",
    "    if(i.endswith(\".json\")):\n",
    "        label_path.append(dataset_dir + \"/\" + i)\n",
    "    else:\n",
    "        img_path.append(dataset_dir + \"/\" + i)\n",
    "        \n",
    "print(len(label_path))\n",
    "print(len(img_path))"
   ]
  },
  {
   "cell_type": "code",
   "execution_count": null,
   "id": "a33ed621-9e21-48ea-ae2e-ef1a174219d1",
   "metadata": {},
   "outputs": [],
   "source": [
    "for c, i in tqdm(enumerate(label_path), total = len(label_path)):\n",
    "    img = cv2.imread(img_path[c])\n",
    "    mask = cv2.cvtColor(img, cv2.COLOR_BGR2GRAY)\n",
    "    mask[mask>0] = 0\n",
    "    com_name = re.search(\"[\\d]+\", label_path[c]).group()  # this is to ensure that the mask image name is similar to original image (common name)\n",
    "    with open(i) as f:\n",
    "        data = json.load(f)\n",
    "    data = np.array(data['shapes'])\n",
    "    for point in range(data.shape[0]):\n",
    "        poly = data[point]['points']\n",
    "        img = cv2.imread(img_path[c])\n",
    "        poly = np.array(poly)\n",
    "        mask = cv2.fillPoly(mask, np.int32([poly]), color = (255,255,255))\n",
    "    mask = mask / 255\n",
    "    # Put the directory path of the mask on save_dir\n",
    "    save_dir = r\"D:\\paper implementation\\dataset\\mask/\"\n",
    "    cv2.imwrite(save_dir + com_name + \".png\", mask)"
   ]
  }
 ],
 "metadata": {
  "kernelspec": {
   "display_name": "Python 3",
   "language": "python",
   "name": "python3"
  },
  "language_info": {
   "codemirror_mode": {
    "name": "ipython",
    "version": 3
   },
   "file_extension": ".py",
   "mimetype": "text/x-python",
   "name": "python",
   "nbconvert_exporter": "python",
   "pygments_lexer": "ipython3",
   "version": "3.8.8"
  }
 },
 "nbformat": 4,
 "nbformat_minor": 5
}
